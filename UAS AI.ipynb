{
  "cells": [
    {
      "cell_type": "markdown",
      "metadata": {
        "id": "view-in-github",
        "colab_type": "text"
      },
      "source": [
        "<a href=\"https://colab.research.google.com/github/NaufalRAul26/EIS-T1/blob/main/UAS%20AI.ipynb\" target=\"_parent\"><img src=\"https://colab.research.google.com/assets/colab-badge.svg\" alt=\"Open In Colab\"/></a>"
      ]
    },
    {
      "cell_type": "markdown",
      "source": [
        "## Loading Libraries"
      ],
      "metadata": {
        "id": "5eRIQMWuiCLp"
      }
    },
    {
      "cell_type": "code",
      "execution_count": null,
      "metadata": {
        "colab": {
          "base_uri": "https://localhost:8080/"
        },
        "id": "Uo3M41_gB2BY",
        "outputId": "21743a6d-821f-46e4-b73a-ccdaa147b35f"
      },
      "outputs": [
        {
          "output_type": "stream",
          "name": "stdout",
          "text": [
            "Drive already mounted at /content/drive; to attempt to forcibly remount, call drive.mount(\"/content/drive\", force_remount=True).\n"
          ]
        }
      ],
      "source": [
        "#menghubungkan dengan file di drive\n",
        "from google.colab import drive\n",
        "drive.mount('/content/drive')"
      ]
    },
    {
      "cell_type": "code",
      "execution_count": null,
      "metadata": {
        "id": "KUi4h8OKiest"
      },
      "outputs": [],
      "source": [
        "import pandas as pd # Alat analisis dan manipulasi data\n",
        "import numpy as np # Paket fundamental untuk aljabar linear dan array multidimensi\n",
        "import tensorflow as tf # Alat pembelajaran mendalam\n",
        "import os # Modul OS di Python menyediakan cara menggunakan fungsi yang bergantung pada sistem operasi\n",
        "import cv2 # Pustaka untuk pemrosesan gambar\n",
        "from sklearn.model_selection import train_test_split # Untuk membagi data menjadi set pelatihan dan validasi\n",
        "from sklearn.metrics import f1_score, confusion_matrix # Untuk menghitung skor F1 dan menghasilkan matriks kebingungan"
      ]
    },
    {
      "cell_type": "markdown",
      "source": [
        "## Loading and preparing training data"
      ],
      "metadata": {
        "id": "caQuI6ygiNLl"
      }
    },
    {
      "cell_type": "code",
      "execution_count": null,
      "metadata": {
        "id": "3Wb-waUmik1L"
      },
      "outputs": [],
      "source": [
        "labels = pd.read_csv(\"/content/drive/My Drive/saindata/eye_gender_data/Training_set.csv\") # loading the labels\n",
        "file_paths = [[fname, '/content/drive/My Drive/saindata/eye_gender_data/train/' + fname] for fname in labels['filename']]\n",
        "images = pd.DataFrame(file_paths, columns=['filename', 'filepaths'])\n",
        "train_data = pd.merge(images, labels, how = 'inner', on = 'filename')\n",
        "\n",
        "data = [] # initialize an empty numpy array\n",
        "image_size = 100 # image size taken is 100 here. one can take other size too\n",
        "for i in range(len(train_data)):\n",
        "  img_array = cv2.imread(train_data['filepaths'][i], cv2.IMREAD_GRAYSCALE) # converting the image to gray scale\n",
        "  new_img_array = cv2.resize(img_array, (image_size, image_size)) # resizing the image array\n",
        "  data.append([new_img_array, train_data['label'][i]])"
      ]
    },
    {
      "cell_type": "code",
      "execution_count": null,
      "metadata": {
        "id": "69rZtCDoi8XX"
      },
      "outputs": [],
      "source": [
        "from google.colab.patches import cv2_imshow\n",
        "from tensorflow.keras.preprocessing.image import ImageDataGenerator"
      ]
    },
    {
      "cell_type": "code",
      "execution_count": null,
      "metadata": {
        "colab": {
          "base_uri": "https://localhost:8080/",
          "height": 206
        },
        "id": "r5UlV9US0In6",
        "outputId": "841f3b7b-2bea-4846-a3f6-eecaf28e140f"
      },
      "outputs": [
        {
          "output_type": "execute_result",
          "data": {
            "text/plain": [
              "      filename                                          filepaths   label\n",
              "0  Image_1.jpg  /content/drive/My Drive/saindata/eye_gender_da...    male\n",
              "1  Image_2.jpg  /content/drive/My Drive/saindata/eye_gender_da...  female\n",
              "2  Image_3.jpg  /content/drive/My Drive/saindata/eye_gender_da...  female\n",
              "3  Image_4.jpg  /content/drive/My Drive/saindata/eye_gender_da...  female\n",
              "4  Image_5.jpg  /content/drive/My Drive/saindata/eye_gender_da...    male"
            ],
            "text/html": [
              "\n",
              "  <div id=\"df-abaa95f9-d61e-44d1-95b9-3f8a338177e0\" class=\"colab-df-container\">\n",
              "    <div>\n",
              "<style scoped>\n",
              "    .dataframe tbody tr th:only-of-type {\n",
              "        vertical-align: middle;\n",
              "    }\n",
              "\n",
              "    .dataframe tbody tr th {\n",
              "        vertical-align: top;\n",
              "    }\n",
              "\n",
              "    .dataframe thead th {\n",
              "        text-align: right;\n",
              "    }\n",
              "</style>\n",
              "<table border=\"1\" class=\"dataframe\">\n",
              "  <thead>\n",
              "    <tr style=\"text-align: right;\">\n",
              "      <th></th>\n",
              "      <th>filename</th>\n",
              "      <th>filepaths</th>\n",
              "      <th>label</th>\n",
              "    </tr>\n",
              "  </thead>\n",
              "  <tbody>\n",
              "    <tr>\n",
              "      <th>0</th>\n",
              "      <td>Image_1.jpg</td>\n",
              "      <td>/content/drive/My Drive/saindata/eye_gender_da...</td>\n",
              "      <td>male</td>\n",
              "    </tr>\n",
              "    <tr>\n",
              "      <th>1</th>\n",
              "      <td>Image_2.jpg</td>\n",
              "      <td>/content/drive/My Drive/saindata/eye_gender_da...</td>\n",
              "      <td>female</td>\n",
              "    </tr>\n",
              "    <tr>\n",
              "      <th>2</th>\n",
              "      <td>Image_3.jpg</td>\n",
              "      <td>/content/drive/My Drive/saindata/eye_gender_da...</td>\n",
              "      <td>female</td>\n",
              "    </tr>\n",
              "    <tr>\n",
              "      <th>3</th>\n",
              "      <td>Image_4.jpg</td>\n",
              "      <td>/content/drive/My Drive/saindata/eye_gender_da...</td>\n",
              "      <td>female</td>\n",
              "    </tr>\n",
              "    <tr>\n",
              "      <th>4</th>\n",
              "      <td>Image_5.jpg</td>\n",
              "      <td>/content/drive/My Drive/saindata/eye_gender_da...</td>\n",
              "      <td>male</td>\n",
              "    </tr>\n",
              "  </tbody>\n",
              "</table>\n",
              "</div>\n",
              "    <div class=\"colab-df-buttons\">\n",
              "\n",
              "  <div class=\"colab-df-container\">\n",
              "    <button class=\"colab-df-convert\" onclick=\"convertToInteractive('df-abaa95f9-d61e-44d1-95b9-3f8a338177e0')\"\n",
              "            title=\"Convert this dataframe to an interactive table.\"\n",
              "            style=\"display:none;\">\n",
              "\n",
              "  <svg xmlns=\"http://www.w3.org/2000/svg\" height=\"24px\" viewBox=\"0 -960 960 960\">\n",
              "    <path d=\"M120-120v-720h720v720H120Zm60-500h600v-160H180v160Zm220 220h160v-160H400v160Zm0 220h160v-160H400v160ZM180-400h160v-160H180v160Zm440 0h160v-160H620v160ZM180-180h160v-160H180v160Zm440 0h160v-160H620v160Z\"/>\n",
              "  </svg>\n",
              "    </button>\n",
              "\n",
              "  <style>\n",
              "    .colab-df-container {\n",
              "      display:flex;\n",
              "      gap: 12px;\n",
              "    }\n",
              "\n",
              "    .colab-df-convert {\n",
              "      background-color: #E8F0FE;\n",
              "      border: none;\n",
              "      border-radius: 50%;\n",
              "      cursor: pointer;\n",
              "      display: none;\n",
              "      fill: #1967D2;\n",
              "      height: 32px;\n",
              "      padding: 0 0 0 0;\n",
              "      width: 32px;\n",
              "    }\n",
              "\n",
              "    .colab-df-convert:hover {\n",
              "      background-color: #E2EBFA;\n",
              "      box-shadow: 0px 1px 2px rgba(60, 64, 67, 0.3), 0px 1px 3px 1px rgba(60, 64, 67, 0.15);\n",
              "      fill: #174EA6;\n",
              "    }\n",
              "\n",
              "    .colab-df-buttons div {\n",
              "      margin-bottom: 4px;\n",
              "    }\n",
              "\n",
              "    [theme=dark] .colab-df-convert {\n",
              "      background-color: #3B4455;\n",
              "      fill: #D2E3FC;\n",
              "    }\n",
              "\n",
              "    [theme=dark] .colab-df-convert:hover {\n",
              "      background-color: #434B5C;\n",
              "      box-shadow: 0px 1px 3px 1px rgba(0, 0, 0, 0.15);\n",
              "      filter: drop-shadow(0px 1px 2px rgba(0, 0, 0, 0.3));\n",
              "      fill: #FFFFFF;\n",
              "    }\n",
              "  </style>\n",
              "\n",
              "    <script>\n",
              "      const buttonEl =\n",
              "        document.querySelector('#df-abaa95f9-d61e-44d1-95b9-3f8a338177e0 button.colab-df-convert');\n",
              "      buttonEl.style.display =\n",
              "        google.colab.kernel.accessAllowed ? 'block' : 'none';\n",
              "\n",
              "      async function convertToInteractive(key) {\n",
              "        const element = document.querySelector('#df-abaa95f9-d61e-44d1-95b9-3f8a338177e0');\n",
              "        const dataTable =\n",
              "          await google.colab.kernel.invokeFunction('convertToInteractive',\n",
              "                                                    [key], {});\n",
              "        if (!dataTable) return;\n",
              "\n",
              "        const docLinkHtml = 'Like what you see? Visit the ' +\n",
              "          '<a target=\"_blank\" href=https://colab.research.google.com/notebooks/data_table.ipynb>data table notebook</a>'\n",
              "          + ' to learn more about interactive tables.';\n",
              "        element.innerHTML = '';\n",
              "        dataTable['output_type'] = 'display_data';\n",
              "        await google.colab.output.renderOutput(dataTable, element);\n",
              "        const docLink = document.createElement('div');\n",
              "        docLink.innerHTML = docLinkHtml;\n",
              "        element.appendChild(docLink);\n",
              "      }\n",
              "    </script>\n",
              "  </div>\n",
              "\n",
              "\n",
              "<div id=\"df-52ccef8e-643b-4eb5-a0c5-a59fe5ad0b7f\">\n",
              "  <button class=\"colab-df-quickchart\" onclick=\"quickchart('df-52ccef8e-643b-4eb5-a0c5-a59fe5ad0b7f')\"\n",
              "            title=\"Suggest charts\"\n",
              "            style=\"display:none;\">\n",
              "\n",
              "<svg xmlns=\"http://www.w3.org/2000/svg\" height=\"24px\"viewBox=\"0 0 24 24\"\n",
              "     width=\"24px\">\n",
              "    <g>\n",
              "        <path d=\"M19 3H5c-1.1 0-2 .9-2 2v14c0 1.1.9 2 2 2h14c1.1 0 2-.9 2-2V5c0-1.1-.9-2-2-2zM9 17H7v-7h2v7zm4 0h-2V7h2v10zm4 0h-2v-4h2v4z\"/>\n",
              "    </g>\n",
              "</svg>\n",
              "  </button>\n",
              "\n",
              "<style>\n",
              "  .colab-df-quickchart {\n",
              "      --bg-color: #E8F0FE;\n",
              "      --fill-color: #1967D2;\n",
              "      --hover-bg-color: #E2EBFA;\n",
              "      --hover-fill-color: #174EA6;\n",
              "      --disabled-fill-color: #AAA;\n",
              "      --disabled-bg-color: #DDD;\n",
              "  }\n",
              "\n",
              "  [theme=dark] .colab-df-quickchart {\n",
              "      --bg-color: #3B4455;\n",
              "      --fill-color: #D2E3FC;\n",
              "      --hover-bg-color: #434B5C;\n",
              "      --hover-fill-color: #FFFFFF;\n",
              "      --disabled-bg-color: #3B4455;\n",
              "      --disabled-fill-color: #666;\n",
              "  }\n",
              "\n",
              "  .colab-df-quickchart {\n",
              "    background-color: var(--bg-color);\n",
              "    border: none;\n",
              "    border-radius: 50%;\n",
              "    cursor: pointer;\n",
              "    display: none;\n",
              "    fill: var(--fill-color);\n",
              "    height: 32px;\n",
              "    padding: 0;\n",
              "    width: 32px;\n",
              "  }\n",
              "\n",
              "  .colab-df-quickchart:hover {\n",
              "    background-color: var(--hover-bg-color);\n",
              "    box-shadow: 0 1px 2px rgba(60, 64, 67, 0.3), 0 1px 3px 1px rgba(60, 64, 67, 0.15);\n",
              "    fill: var(--button-hover-fill-color);\n",
              "  }\n",
              "\n",
              "  .colab-df-quickchart-complete:disabled,\n",
              "  .colab-df-quickchart-complete:disabled:hover {\n",
              "    background-color: var(--disabled-bg-color);\n",
              "    fill: var(--disabled-fill-color);\n",
              "    box-shadow: none;\n",
              "  }\n",
              "\n",
              "  .colab-df-spinner {\n",
              "    border: 2px solid var(--fill-color);\n",
              "    border-color: transparent;\n",
              "    border-bottom-color: var(--fill-color);\n",
              "    animation:\n",
              "      spin 1s steps(1) infinite;\n",
              "  }\n",
              "\n",
              "  @keyframes spin {\n",
              "    0% {\n",
              "      border-color: transparent;\n",
              "      border-bottom-color: var(--fill-color);\n",
              "      border-left-color: var(--fill-color);\n",
              "    }\n",
              "    20% {\n",
              "      border-color: transparent;\n",
              "      border-left-color: var(--fill-color);\n",
              "      border-top-color: var(--fill-color);\n",
              "    }\n",
              "    30% {\n",
              "      border-color: transparent;\n",
              "      border-left-color: var(--fill-color);\n",
              "      border-top-color: var(--fill-color);\n",
              "      border-right-color: var(--fill-color);\n",
              "    }\n",
              "    40% {\n",
              "      border-color: transparent;\n",
              "      border-right-color: var(--fill-color);\n",
              "      border-top-color: var(--fill-color);\n",
              "    }\n",
              "    60% {\n",
              "      border-color: transparent;\n",
              "      border-right-color: var(--fill-color);\n",
              "    }\n",
              "    80% {\n",
              "      border-color: transparent;\n",
              "      border-right-color: var(--fill-color);\n",
              "      border-bottom-color: var(--fill-color);\n",
              "    }\n",
              "    90% {\n",
              "      border-color: transparent;\n",
              "      border-bottom-color: var(--fill-color);\n",
              "    }\n",
              "  }\n",
              "</style>\n",
              "\n",
              "  <script>\n",
              "    async function quickchart(key) {\n",
              "      const quickchartButtonEl =\n",
              "        document.querySelector('#' + key + ' button');\n",
              "      quickchartButtonEl.disabled = true;  // To prevent multiple clicks.\n",
              "      quickchartButtonEl.classList.add('colab-df-spinner');\n",
              "      try {\n",
              "        const charts = await google.colab.kernel.invokeFunction(\n",
              "            'suggestCharts', [key], {});\n",
              "      } catch (error) {\n",
              "        console.error('Error during call to suggestCharts:', error);\n",
              "      }\n",
              "      quickchartButtonEl.classList.remove('colab-df-spinner');\n",
              "      quickchartButtonEl.classList.add('colab-df-quickchart-complete');\n",
              "    }\n",
              "    (() => {\n",
              "      let quickchartButtonEl =\n",
              "        document.querySelector('#df-52ccef8e-643b-4eb5-a0c5-a59fe5ad0b7f button');\n",
              "      quickchartButtonEl.style.display =\n",
              "        google.colab.kernel.accessAllowed ? 'block' : 'none';\n",
              "    })();\n",
              "  </script>\n",
              "</div>\n",
              "    </div>\n",
              "  </div>\n"
            ],
            "application/vnd.google.colaboratory.intrinsic+json": {
              "type": "dataframe",
              "variable_name": "train_data",
              "summary": "{\n  \"name\": \"train_data\",\n  \"rows\": 9220,\n  \"fields\": [\n    {\n      \"column\": \"filename\",\n      \"properties\": {\n        \"dtype\": \"string\",\n        \"num_unique_values\": 9220,\n        \"samples\": [\n          \"Image_7811.jpg\",\n          \"Image_1181.jpg\",\n          \"Image_5866.jpg\"\n        ],\n        \"semantic_type\": \"\",\n        \"description\": \"\"\n      }\n    },\n    {\n      \"column\": \"filepaths\",\n      \"properties\": {\n        \"dtype\": \"string\",\n        \"num_unique_values\": 9220,\n        \"samples\": [\n          \"/content/drive/My Drive/saindata/eye_gender_data/train/Image_7811.jpg\",\n          \"/content/drive/My Drive/saindata/eye_gender_data/train/Image_1181.jpg\",\n          \"/content/drive/My Drive/saindata/eye_gender_data/train/Image_5866.jpg\"\n        ],\n        \"semantic_type\": \"\",\n        \"description\": \"\"\n      }\n    },\n    {\n      \"column\": \"label\",\n      \"properties\": {\n        \"dtype\": \"category\",\n        \"num_unique_values\": 2,\n        \"samples\": [\n          \"female\",\n          \"male\"\n        ],\n        \"semantic_type\": \"\",\n        \"description\": \"\"\n      }\n    }\n  ]\n}"
            }
          },
          "metadata": {},
          "execution_count": 8
        }
      ],
      "source": [
        "train_data.head()"
      ]
    },
    {
      "cell_type": "markdown",
      "source": [
        "## Data Pre-processing"
      ],
      "metadata": {
        "id": "Qp1_yAbaiQuf"
      }
    },
    {
      "cell_type": "code",
      "execution_count": null,
      "metadata": {
        "id": "_R-VxuGX0Okd"
      },
      "outputs": [],
      "source": [
        "train_images_gen = ImageDataGenerator(rotation_range=90, zoom_range=0.3, width_shift_range=0.3)"
      ]
    },
    {
      "cell_type": "code",
      "execution_count": null,
      "metadata": {
        "colab": {
          "base_uri": "https://localhost:8080/"
        },
        "id": "KmLfnOvJ0SDy",
        "outputId": "cf8125cc-b186-45d7-e21f-057277391a9c"
      },
      "outputs": [
        {
          "output_type": "stream",
          "name": "stdout",
          "text": [
            "Found 9220 validated image filenames belonging to 2 classes.\n"
          ]
        }
      ],
      "source": [
        "train_images_aug = train_images_gen.flow_from_dataframe(train_data, x_col='filepaths', y_col='label')"
      ]
    },
    {
      "cell_type": "code",
      "execution_count": null,
      "metadata": {
        "id": "yiY8iXWI0WjK"
      },
      "outputs": [],
      "source": [
        "X = np.array([data[i][0] for i in range(len(data))])\n",
        "y = np.array([1 if data[i][1] == 'male' else 0 for i in range(len(data))])"
      ]
    },
    {
      "cell_type": "code",
      "execution_count": null,
      "metadata": {
        "colab": {
          "base_uri": "https://localhost:8080/"
        },
        "id": "KjmDJzOV0ZwL",
        "outputId": "d3444d09-0bbd-4b35-e856-1f0edf723261"
      },
      "outputs": [
        {
          "output_type": "stream",
          "name": "stdout",
          "text": [
            "Training Data: (7376, 100, 100)\n",
            "Testing Data: (1844, 100, 100)\n"
          ]
        }
      ],
      "source": [
        "train_images, test_images, train_labels, test_labels = train_test_split(X, y, test_size=0.2, random_state=42)\n",
        "print(\"Training Data:\", train_images.shape)\n",
        "print(\"Testing Data:\", test_images.shape)"
      ]
    },
    {
      "cell_type": "code",
      "execution_count": null,
      "metadata": {
        "colab": {
          "base_uri": "https://localhost:8080/"
        },
        "id": "OhT1E0lw0fyz",
        "outputId": "3949f081-e1d5-4eb9-aedd-ed55ca8192da"
      },
      "outputs": [
        {
          "output_type": "stream",
          "name": "stdout",
          "text": [
            "Training Data: (7376, 50, 50, 1)\n",
            "Testing Data: (1844, 50, 50, 1)\n"
          ]
        }
      ],
      "source": [
        "def resize_img(img, shape=(50, 50)):\n",
        "  img = cv2.resize(img, shape)\n",
        "  img = np.array(img)\n",
        "  return img\n",
        "\n",
        "train_images = np.array([resize_img(img) for img in train_images]) / 255.\n",
        "train_images = np.reshape(train_images, (len(train_images), 50, 50, 1))\n",
        "\n",
        "test_images = np.array([resize_img(img) for img in test_images]) / 255.\n",
        "test_images = np.reshape(test_images, (len(test_images), 50, 50, 1))\n",
        "print(\"Training Data:\", train_images.shape)\n",
        "print(\"Testing Data:\", test_images.shape)"
      ]
    },
    {
      "cell_type": "markdown",
      "source": [
        "## Building Model & Hyperparameter tuning"
      ],
      "metadata": {
        "id": "ELN6W1wOiW77"
      }
    },
    {
      "cell_type": "code",
      "execution_count": null,
      "metadata": {
        "id": "sBtLb9t401H_"
      },
      "outputs": [],
      "source": [
        "import os\n",
        "from random import seed\n",
        "\n",
        "seed_val = 42\n",
        "\n",
        "os.environ['PYTHONHASHSEED'] = str(seed_val)\n",
        "seed(seed_val)\n",
        "np.random.seed(seed_val)\n",
        "tf.random.set_seed(seed_val)"
      ]
    },
    {
      "cell_type": "code",
      "execution_count": null,
      "metadata": {
        "id": "yARVBSVV05wu"
      },
      "outputs": [],
      "source": [
        "from tensorflow.keras import layers, Sequential"
      ]
    },
    {
      "cell_type": "code",
      "execution_count": null,
      "metadata": {
        "id": "B1zP05Kw055P"
      },
      "outputs": [],
      "source": [
        "model = Sequential()\n",
        "model.add(layers.Conv2D(32, kernel_size=(3, 3), activation='relu', input_shape=(50, 50, 1), padding='valid'))\n",
        "model.add(layers.MaxPool2D(pool_size=(2, 2), strides=(1, 1)))\n",
        "model.add(layers.Conv2D(32, kernel_size=(3, 3), activation='relu', padding='valid'))\n",
        "model.add(layers.MaxPool2D(pool_size=(2, 2), strides=(1, 1)))\n",
        "model.add(layers.Conv2D(64, kernel_size=(3, 3), activation='relu', padding='valid'))\n",
        "model.add(layers.MaxPool2D(pool_size=(2, 2), strides=(1, 1)))\n",
        "model.add(layers.Flatten())\n",
        "model.add(layers.Dense(32, activation='relu'))\n",
        "model.add(layers.Dense(64, activation='relu'))\n",
        "model.add(layers.Dropout(0.3))\n",
        "model.add(layers.Dense(64, activation='relu'))\n",
        "model.add(layers.Dropout(0.3))\n",
        "model.add(layers.Dense(1, activation='sigmoid'))"
      ]
    },
    {
      "cell_type": "code",
      "execution_count": null,
      "metadata": {
        "colab": {
          "base_uri": "https://localhost:8080/"
        },
        "id": "_SKweeB806A3",
        "outputId": "9613127d-be45-46c4-85dc-3bea97b04826"
      },
      "outputs": [
        {
          "output_type": "stream",
          "name": "stdout",
          "text": [
            "Epoch 1/20\n",
            "148/148 [==============================] - 129s 852ms/step - loss: 0.5706 - accuracy: 0.6880 - val_loss: 0.4742 - val_accuracy: 0.7749\n",
            "Epoch 2/20\n",
            "148/148 [==============================] - 115s 777ms/step - loss: 0.4156 - accuracy: 0.8235 - val_loss: 0.3611 - val_accuracy: 0.8433\n",
            "Epoch 3/20\n",
            "148/148 [==============================] - 118s 793ms/step - loss: 0.3537 - accuracy: 0.8517 - val_loss: 0.3139 - val_accuracy: 0.8666\n",
            "Epoch 4/20\n",
            "148/148 [==============================] - 116s 782ms/step - loss: 0.3088 - accuracy: 0.8727 - val_loss: 0.3130 - val_accuracy: 0.8704\n",
            "Epoch 5/20\n",
            "148/148 [==============================] - 113s 764ms/step - loss: 0.2718 - accuracy: 0.8899 - val_loss: 0.2563 - val_accuracy: 0.8943\n",
            "Epoch 6/20\n",
            "148/148 [==============================] - 121s 818ms/step - loss: 0.2617 - accuracy: 0.8940 - val_loss: 0.2717 - val_accuracy: 0.8807\n",
            "Epoch 7/20\n",
            "148/148 [==============================] - 117s 789ms/step - loss: 0.2273 - accuracy: 0.9093 - val_loss: 0.2607 - val_accuracy: 0.8937\n",
            "Epoch 8/20\n",
            "148/148 [==============================] - 114s 774ms/step - loss: 0.2137 - accuracy: 0.9131 - val_loss: 0.2787 - val_accuracy: 0.8926\n",
            "Epoch 9/20\n",
            "148/148 [==============================] - 120s 815ms/step - loss: 0.1987 - accuracy: 0.9238 - val_loss: 0.2714 - val_accuracy: 0.8980\n",
            "Epoch 10/20\n",
            "148/148 [==============================] - 116s 783ms/step - loss: 0.1837 - accuracy: 0.9276 - val_loss: 0.2479 - val_accuracy: 0.8910\n",
            "Epoch 11/20\n",
            "148/148 [==============================] - 119s 803ms/step - loss: 0.1667 - accuracy: 0.9306 - val_loss: 0.3000 - val_accuracy: 0.8877\n",
            "Epoch 12/20\n",
            "148/148 [==============================] - 120s 811ms/step - loss: 0.1612 - accuracy: 0.9361 - val_loss: 0.2905 - val_accuracy: 0.8915\n",
            "Epoch 13/20\n",
            "148/148 [==============================] - 113s 764ms/step - loss: 0.1482 - accuracy: 0.9401 - val_loss: 0.2401 - val_accuracy: 0.9089\n",
            "Epoch 14/20\n",
            "148/148 [==============================] - 114s 769ms/step - loss: 0.1343 - accuracy: 0.9462 - val_loss: 0.2794 - val_accuracy: 0.8932\n",
            "Epoch 15/20\n",
            "148/148 [==============================] - 114s 767ms/step - loss: 0.1268 - accuracy: 0.9490 - val_loss: 0.2659 - val_accuracy: 0.8926\n",
            "Epoch 16/20\n",
            "148/148 [==============================] - 113s 763ms/step - loss: 0.1140 - accuracy: 0.9530 - val_loss: 0.2727 - val_accuracy: 0.8986\n",
            "Epoch 17/20\n",
            "148/148 [==============================] - 118s 800ms/step - loss: 0.1218 - accuracy: 0.9486 - val_loss: 0.2624 - val_accuracy: 0.9073\n",
            "Epoch 18/20\n",
            "148/148 [==============================] - 113s 766ms/step - loss: 0.1038 - accuracy: 0.9568 - val_loss: 0.3903 - val_accuracy: 0.8807\n",
            "Epoch 19/20\n",
            "148/148 [==============================] - 119s 803ms/step - loss: 0.0943 - accuracy: 0.9618 - val_loss: 0.3328 - val_accuracy: 0.8970\n",
            "Epoch 20/20\n",
            "148/148 [==============================] - 113s 762ms/step - loss: 0.1071 - accuracy: 0.9549 - val_loss: 0.2975 - val_accuracy: 0.9013\n"
          ]
        }
      ],
      "source": [
        "optimizer = tf.optimizers.Adam(0.001)\n",
        "model.compile(\n",
        "optimizer=optimizer,\n",
        "loss=tf.keras.losses.BinaryCrossentropy(),\n",
        "metrics=['accuracy'],\n",
        ")\n",
        "\n",
        "history = model.fit(\n",
        "train_images,\n",
        "train_labels,\n",
        "batch_size=50,\n",
        "epochs=20,\n",
        "validation_data=(test_images, test_labels)\n",
        ")"
      ]
    },
    {
      "cell_type": "code",
      "execution_count": null,
      "metadata": {
        "colab": {
          "base_uri": "https://localhost:8080/",
          "height": 447
        },
        "id": "cLofYci-06Ib",
        "outputId": "5f1a3da2-f6e4-461e-8128-d6fa3989a141"
      },
      "outputs": [
        {
          "output_type": "execute_result",
          "data": {
            "text/plain": [
              "<Axes: >"
            ]
          },
          "metadata": {},
          "execution_count": 18
        },
        {
          "output_type": "display_data",
          "data": {
            "text/plain": [
              "<Figure size 640x480 with 1 Axes>"
            ],
            "image/png": "[encoded data removed]"
          },
          "metadata": {}
        }
      ],
      "source": [
        "history = pd.DataFrame(history.history)\n",
        "history[['accuracy', 'val_accuracy']].plot()"
      ]
    },
    {
      "cell_type": "markdown",
      "source": [
        "## Validate the model"
      ],
      "metadata": {
        "id": "iW3sozi1ilGE"
      }
    },
    {
      "cell_type": "code",
      "execution_count": null,
      "metadata": {
        "colab": {
          "base_uri": "https://localhost:8080/"
        },
        "id": "qKl8NQCO_j88",
        "outputId": "e465f9bc-312c-4463-f18e-d23e59d95a81"
      },
      "outputs": [
        {
          "output_type": "stream",
          "name": "stdout",
          "text": [
            "58/58 [==============================] - 7s 114ms/step - loss: 0.2975 - accuracy: 0.9013\n"
          ]
        },
        {
          "output_type": "execute_result",
          "data": {
            "text/plain": [
              "[0.29747337102890015, 0.9013015031814575]"
            ]
          },
          "metadata": {},
          "execution_count": 19
        }
      ],
      "source": [
        "model.evaluate(test_images, test_labels)"
      ]
    },
    {
      "cell_type": "code",
      "execution_count": null,
      "metadata": {
        "id": "5wcG64SmCBQI"
      },
      "outputs": [],
      "source": [
        "filenames = pd.read_csv(\"/content/drive/My Drive/saindata/eye_gender_data/Testing_set.csv\") # loading the labels\n",
        "file_paths = [[fname, '/content/drive/My Drive/saindata/eye_gender_data/test/' + fname] for fname in filenames['filename']]\n",
        "test_data = pd.DataFrame(file_paths, columns=['filename', 'filepaths'])\n",
        "\n",
        "data2 = [] # initialize an empty numpy array\n",
        "for i in range(len(test_data)):\n",
        "  img_array = cv2.imread(test_data['filepaths'][i], cv2.IMREAD_GRAYSCALE) # converting the image to gray scale\n",
        "  data2.append(img_array)"
      ]
    },
    {
      "cell_type": "code",
      "execution_count": null,
      "metadata": {
        "colab": {
          "base_uri": "https://localhost:8080/",
          "height": 158
        },
        "id": "1NPLuraMCE5W",
        "outputId": "99e0537c-2f6a-4f9c-d95a-2b335fe62a08"
      },
      "outputs": [
        {
          "output_type": "execute_result",
          "data": {
            "text/plain": [
              "array([[165, 175, 176, ...,  95,  94,  87],\n",
              "       [150, 161, 166, ...,  88,  83,  76],\n",
              "       [145, 154, 158, ...,  75,  70,  69],\n",
              "       ...,\n",
              "       [116, 116, 119, ..., 134, 137, 136],\n",
              "       [112, 117, 123, ..., 125, 122, 118],\n",
              "       [110, 116, 125, ..., 134, 128, 122]], dtype=uint8)"
            ],
            "text/html": [
              "<style>\n",
              "      .ndarray_repr .ndarray_raw_data {\n",
              "        display: none;\n",
              "      }\n",
              "      .ndarray_repr.show_array .ndarray_raw_data {\n",
              "        display: block;\n",
              "      }\n",
              "      .ndarray_repr.show_array .ndarray_image_preview {\n",
              "        display: none;\n",
              "      }\n",
              "      </style>\n",
              "      <div id=\"id-dfa772b6-bdd9-458f-852c-a6153442ce92\" class=\"ndarray_repr\"><pre>ndarray (53, 53) <button style=\"padding: 0 2px;\">show data</button></pre><img src=\"data:image/png;base64,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\" class=\"ndarray_image_preview\" /><pre class=\"ndarray_raw_data\">array([[165, 175, 176, ...,  95,  94,  87],\n",
              "       [150, 161, 166, ...,  88,  83,  76],\n",
              "       [145, 154, 158, ...,  75,  70,  69],\n",
              "       ...,\n",
              "       [116, 116, 119, ..., 134, 137, 136],\n",
              "       [112, 117, 123, ..., 125, 122, 118],\n",
              "       [110, 116, 125, ..., 134, 128, 122]], dtype=uint8)</pre></div><script>\n",
              "      (() => {\n",
              "      const titles = ['show data', 'hide data'];\n",
              "      let index = 0\n",
              "      document.querySelector('#id-dfa772b6-bdd9-458f-852c-a6153442ce92 button').onclick = (e) => {\n",
              "        document.querySelector('#id-dfa772b6-bdd9-458f-852c-a6153442ce92').classList.toggle('show_array');\n",
              "        index = (++index) % 2;\n",
              "        document.querySelector('#id-dfa772b6-bdd9-458f-852c-a6153442ce92 button').textContent = titles[index];\n",
              "        e.preventDefault();\n",
              "        e.stopPropagation();\n",
              "      }\n",
              "      })();\n",
              "    </script>"
            ]
          },
          "metadata": {},
          "execution_count": 21
        }
      ],
      "source": [
        "data2[1]"
      ]
    },
    {
      "cell_type": "markdown",
      "source": [
        "## Predict The Output For Testing Dataset"
      ],
      "metadata": {
        "id": "74Iz7NwEiskP"
      }
    },
    {
      "cell_type": "code",
      "execution_count": null,
      "metadata": {
        "id": "vpeUPU0tCQkm"
      },
      "outputs": [],
      "source": [
        "test_images = np.array([resize_img(img) for img in data2]) / 255.\n",
        "test_images = np.reshape(test_images, (len(test_images), 50, 50, 1))"
      ]
    },
    {
      "cell_type": "code",
      "execution_count": null,
      "metadata": {
        "colab": {
          "base_uri": "https://localhost:8080/"
        },
        "id": "Ey9HidZBCRFT",
        "outputId": "4274a75b-80ca-4b22-abb9-b682fbf1b1c3"
      },
      "outputs": [
        {
          "output_type": "execute_result",
          "data": {
            "text/plain": [
              "array([[[0.64705882],\n",
              "        [0.68627451],\n",
              "        [0.68235294],\n",
              "        ...,\n",
              "        [0.36862745],\n",
              "        [0.36862745],\n",
              "        [0.34117647]],\n",
              "\n",
              "       [[0.58823529],\n",
              "        [0.63137255],\n",
              "        [0.64313725],\n",
              "        ...,\n",
              "        [0.3372549 ],\n",
              "        [0.32156863],\n",
              "        [0.29411765]],\n",
              "\n",
              "       [[0.56470588],\n",
              "        [0.6       ],\n",
              "        [0.61176471],\n",
              "        ...,\n",
              "        [0.29019608],\n",
              "        [0.2745098 ],\n",
              "        [0.27058824]],\n",
              "\n",
              "       ...,\n",
              "\n",
              "       [[0.45490196],\n",
              "        [0.45490196],\n",
              "        [0.4627451 ],\n",
              "        ...,\n",
              "        [0.5254902 ],\n",
              "        [0.54117647],\n",
              "        [0.54117647]],\n",
              "\n",
              "       [[0.43921569],\n",
              "        [0.45882353],\n",
              "        [0.48235294],\n",
              "        ...,\n",
              "        [0.49019608],\n",
              "        [0.48627451],\n",
              "        [0.47058824]],\n",
              "\n",
              "       [[0.43137255],\n",
              "        [0.45882353],\n",
              "        [0.49019608],\n",
              "        ...,\n",
              "        [0.52156863],\n",
              "        [0.50196078],\n",
              "        [0.47843137]]])"
            ]
          },
          "metadata": {},
          "execution_count": 23
        }
      ],
      "source": [
        "test_images[1]"
      ]
    },
    {
      "cell_type": "markdown",
      "source": [
        "Predict The Output For Testing Dataset"
      ],
      "metadata": {
        "id": "cjVeZftniy2R"
      }
    },
    {
      "cell_type": "code",
      "execution_count": null,
      "metadata": {
        "id": "Z-paFCa1CSs7",
        "colab": {
          "base_uri": "https://localhost:8080/"
        },
        "outputId": "10eff12a-ef49-4b15-ff87-09d62d9c9ea2"
      },
      "outputs": [
        {
          "output_type": "stream",
          "name": "stdout",
          "text": [
            "73/73 [==============================] - 8s 112ms/step\n"
          ]
        }
      ],
      "source": [
        "predictions = model.predict(test_images)\n",
        "predictions = ['male' if i == 1 else 'female' for i in np.round(predictions)]"
      ]
    },
    {
      "cell_type": "markdown",
      "source": [
        "## Save The Output To My Devices"
      ],
      "metadata": {
        "id": "_cJIm0j1i234"
      }
    },
    {
      "cell_type": "code",
      "execution_count": null,
      "metadata": {
        "id": "uRhprJqxRCE5",
        "colab": {
          "base_uri": "https://localhost:8080/",
          "height": 17
        },
        "outputId": "1633c663-b111-44a9-9b34-80bd414cacf2"
      },
      "outputs": [
        {
          "output_type": "display_data",
          "data": {
            "text/plain": [
              "<IPython.core.display.Javascript object>"
            ],
            "application/javascript": [
              "\n",
              "    async function download(id, filename, size) {\n",
              "      if (!google.colab.kernel.accessAllowed) {\n",
              "        return;\n",
              "      }\n",
              "      const div = document.createElement('div');\n",
              "      const label = document.createElement('label');\n",
              "      label.textContent = `Downloading \"${filename}\": `;\n",
              "      div.appendChild(label);\n",
              "      const progress = document.createElement('progress');\n",
              "      progress.max = size;\n",
              "      div.appendChild(progress);\n",
              "      document.body.appendChild(div);\n",
              "\n",
              "      const buffers = [];\n",
              "      let downloaded = 0;\n",
              "\n",
              "      const channel = await google.colab.kernel.comms.open(id);\n",
              "      // Send a message to notify the kernel that we're ready.\n",
              "      channel.send({})\n",
              "\n",
              "      for await (const message of channel.messages) {\n",
              "        // Send a message to notify the kernel that we're ready.\n",
              "        channel.send({})\n",
              "        if (message.buffers) {\n",
              "          for (const buffer of message.buffers) {\n",
              "            buffers.push(buffer);\n",
              "            downloaded += buffer.byteLength;\n",
              "            progress.value = downloaded;\n",
              "          }\n",
              "        }\n",
              "      }\n",
              "      const blob = new Blob(buffers, {type: 'application/binary'});\n",
              "      const a = document.createElement('a');\n",
              "      a.href = window.URL.createObjectURL(blob);\n",
              "      a.download = filename;\n",
              "      div.appendChild(a);\n",
              "      a.click();\n",
              "      div.remove();\n",
              "    }\n",
              "  "
            ]
          },
          "metadata": {}
        },
        {
          "output_type": "display_data",
          "data": {
            "text/plain": [
              "<IPython.core.display.Javascript object>"
            ],
            "application/javascript": [
              "download(\"download_c73f538a-d7d5-4143-8aa7-ad17e8c7c239\", \"submission.csv\", 46996)"
            ]
          },
          "metadata": {}
        }
      ],
      "source": [
        "res = pd.DataFrame({'filename': test_data['filename'], 'label': predictions}) # prediction is nothing but the final predictions of your model on input features of your new unseen test data\n",
        "res.to_csv(\"submission.csv\", index = False)\n",
        "\n",
        "# To download the csv file locally\n",
        "from google.colab import files\n",
        "files.download('submission.csv')"
      ]
    }
  ],
  "metadata": {
    "colab": {
      "provenance": [],
      "include_colab_link": true
    },
    "kernelspec": {
      "display_name": "Python 3",
      "name": "python3"
    },
    "language_info": {
      "name": "python"
    }
  },
  "nbformat": 4,
  "nbformat_minor": 0
}